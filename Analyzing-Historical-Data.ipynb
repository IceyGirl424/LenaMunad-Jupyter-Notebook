{
  "metadata": {
    "kernelspec": {
      "name": "python",
      "display_name": "Python (Pyodide)",
      "language": "python"
    },
    "language_info": {
      "codemirror_mode": {
        "name": "python",
        "version": 3
      },
      "file_extension": ".py",
      "mimetype": "text/x-python",
      "name": "python",
      "nbconvert_exporter": "python",
      "pygments_lexer": "ipython3",
      "version": "3.8"
    }
  },
  "nbformat_minor": 4,
  "nbformat": 4,
  "cells": [
    {
      "cell_type": "code",
      "source": "## Analyzing Historical Stock/Revenue Data and Building a Dashboard",
      "metadata": {
        "trusted": true
      },
      "outputs": [],
      "execution_count": null
    },
    {
      "cell_type": "code",
      "source": "",
      "metadata": {
        "trusted": true
      },
      "outputs": [],
      "execution_count": null
    },
    {
      "cell_type": "markdown",
      "source": "Question 1: Extracting Tesla Stock Data Using yfinance (2 Points)",
      "metadata": {}
    },
    {
      "cell_type": "code",
      "source": "%pip install yfinance",
      "metadata": {
        "trusted": true
      },
      "outputs": [],
      "execution_count": 10
    },
    {
      "cell_type": "code",
      "source": "# Import libraries\nimport yfinance as yf\n\n# Question 1: Extract Stock Data for Tesla (TSLA)\ntesla_data = yf.download(\"TSLA\", start=\"2022-01-01\", end=\"2024-01-01\")\n\n# Reset the index\ntesla_data.reset_index(inplace=True)\n\n# Save and display the first five rows\ntesla_data_head = tesla_data.head()\nprint(\"Tesla Data:\")\nprint(tesla_data_head)",
      "metadata": {
        "trusted": true
      },
      "outputs": [],
      "execution_count": null
    },
    {
      "cell_type": "code",
      "source": "",
      "metadata": {
        "trusted": true
      },
      "outputs": [],
      "execution_count": null
    },
    {
      "cell_type": "markdown",
      "source": "Question 2: Extracting Tesla Revenue Data Using Webscraping (1 Point)",
      "metadata": {}
    },
    {
      "cell_type": "code",
      "source": "import requests\n\n# URL of the webpage to download\nurl = \"https://cf-courses-data.s3.us.cloud-object-storage.appdomain.cloud/IBMDeveloperSkillsNetwork-PY0220EN-SkillsNetwork/labs/project/revenue.htm\"\n\n# Send a GET request to the URL\nresponse = requests.get(url)\n\n# Check if the request was successful (status code 200)\nif response.status_code == 200:\n    # Save the HTML content in the variable html_data\n    html_data = response.text\n    print(\"Webpage downloaded successfully.\")\nelse:\n    print(f\"Failed to download webpage. Status Code: {response.status_code}\")",
      "metadata": {
        "trusted": true
      },
      "outputs": [],
      "execution_count": null
    },
    {
      "cell_type": "code",
      "source": "",
      "metadata": {
        "trusted": true
      },
      "outputs": [],
      "execution_count": null
    },
    {
      "cell_type": "markdown",
      "source": "Question 3: Use yfinance to Extract Stock Data",
      "metadata": {}
    },
    {
      "cell_type": "code",
      "source": "import yfinance as yf\n\n# Question 3: Extract Stock Data for GameStop (GME)\ngme_data = yf.download(\"GME\", start=\"2022-01-01\", end=\"2024-01-01\")\n\n# Reset the index\ngme_data.reset_index(inplace=True)",
      "metadata": {
        "trusted": true
      },
      "outputs": [],
      "execution_count": null
    },
    {
      "cell_type": "code",
      "source": "",
      "metadata": {
        "trusted": true
      },
      "outputs": [],
      "execution_count": null
    },
    {
      "cell_type": "markdown",
      "source": "Question 4: Use Webscraping to Extract GME Revenue Data",
      "metadata": {}
    },
    {
      "cell_type": "code",
      "source": "%pip install requests beautifulsoup4",
      "metadata": {
        "trusted": true
      },
      "outputs": [],
      "execution_count": null
    },
    {
      "cell_type": "code",
      "source": "import requests\nfrom bs4 import BeautifulSoup\nimport pandas as pd\n\n# URL of the webpage with GME revenue data\nurl = \"https://cf-courses-data.s3.us.cloud-object-storage.appdomain.cloud/IBMDeveloperSkillsNetwork-PY0220EN-SkillsNetwork/labs/project/revenue.htm\"\n\n# Send a GET request to the URL\nresponse = requests.get(url)\n\n# Check if the request was successful (status code 200)\nif response.status_code == 200:\n    # Parse the HTML content using BeautifulSoup\n    soup = BeautifulSoup(response.text, 'html.parser')\n\n    # Find the table containing revenue data\n    table = soup.find('table')\n\n    # Extract data from the table into a DataFrame\n    gme_revenue = pd.read_html(str(table))[0]\n\n    # Display the last five rows using the tail function\n    print(\"Last five rows of GME Revenue Data:\")\n    print(gme_revenue.tail())\nelse:\n    print(f\"Failed to download webpage. Status Code: {response.status_code}\")",
      "metadata": {
        "trusted": true
      },
      "outputs": [],
      "execution_count": null
    },
    {
      "cell_type": "code",
      "source": "",
      "metadata": {
        "trusted": true
      },
      "outputs": [],
      "execution_count": null
    },
    {
      "cell_type": "markdown",
      "source": "Question 5: Plot Tesla Stock Graph",
      "metadata": {}
    },
    {
      "cell_type": "code",
      "source": "%pip install matplotlib",
      "metadata": {
        "trusted": true
      },
      "outputs": [],
      "execution_count": null
    },
    {
      "cell_type": "code",
      "source": "import matplotlib.pyplot as plt\n\n# Define the make_graph function\ndef make_graph(data, title):\n    plt.figure(figsize=(10, 6))\n    plt.plot(data['Date'], data['Close'], label='Closing Price', color='blue')\n    plt.title(title)\n    plt.xlabel('Date')\n    plt.ylabel('Closing Price (USD)')\n    plt.legend()\n    plt.grid(True)\n    plt.show()\n\n# Plot Tesla Stock Graph\nmake_graph(tesla_data, title='Tesla Stock Price (2022-2024)')",
      "metadata": {
        "trusted": true
      },
      "outputs": [],
      "execution_count": null
    },
    {
      "cell_type": "code",
      "source": "",
      "metadata": {
        "trusted": true
      },
      "outputs": [],
      "execution_count": null
    },
    {
      "cell_type": "markdown",
      "source": "Question 6: Plot GameStop Stock Graph",
      "metadata": {}
    },
    {
      "cell_type": "code",
      "source": "# Plot GameStop Stock Graph\nmake_graph(gme_data, title='GameStop Stock Price (2022-2024)')",
      "metadata": {
        "trusted": true
      },
      "outputs": [],
      "execution_count": null
    },
    {
      "cell_type": "code",
      "source": "",
      "metadata": {
        "trusted": true
      },
      "outputs": [],
      "execution_count": null
    }
  ]
}